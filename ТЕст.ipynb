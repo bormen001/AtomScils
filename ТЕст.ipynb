{
  "nbformat": 4,
  "nbformat_minor": 0,
  "metadata": {
    "colab": {
      "provenance": [],
      "authorship_tag": "ABX9TyOMGX2zdOSjscPkAPDtD8/e",
      "include_colab_link": true
    },
    "kernelspec": {
      "name": "python3",
      "display_name": "Python 3"
    },
    "language_info": {
      "name": "python"
    }
  },
  "cells": [
    {
      "cell_type": "markdown",
      "metadata": {
        "id": "view-in-github",
        "colab_type": "text"
      },
      "source": [
        "<a href=\"https://colab.research.google.com/github/bormen001/AtomScils/blob/main/%D0%A2%D0%95%D1%81%D1%82.ipynb\" target=\"_parent\"><img src=\"https://colab.research.google.com/assets/colab-badge.svg\" alt=\"Open In Colab\"/></a>"
      ]
    },
    {
      "cell_type": "code",
      "execution_count": 6,
      "metadata": {
        "id": "fLiKwVaXpYc6"
      },
      "outputs": [],
      "source": [
        "from natasha import (\n",
        "    Segmenter,\n",
        "    MorphVocab,\n",
        "    \n",
        "    NewsEmbedding,\n",
        "    NewsMorphTagger,\n",
        "    NewsSyntaxParser,\n",
        "    NewsNERTagger,\n",
        "    \n",
        "    PER,\n",
        "    LOC,\n",
        "    NamesExtractor,\n",
        "    DatesExtractor,\n",
        "    MoneyExtractor,\n",
        "    AddrExtractor,\n",
        "\n",
        "    Doc\n",
        ")\n",
        "\n",
        "segmenter = Segmenter()\n",
        "morph_vocab = MorphVocab()\n",
        "\n",
        "emb = NewsEmbedding()\n",
        "morph_tagger = NewsMorphTagger(emb)\n",
        "syntax_parser = NewsSyntaxParser(emb)\n",
        "ner_tagger = NewsNERTagger(emb)\n",
        "\n",
        "names_extractor = NamesExtractor(morph_vocab)\n",
        "dates_extractor = DatesExtractor(morph_vocab)\n",
        "money_extractor = MoneyExtractor(morph_vocab)\n",
        "addr_extractor = AddrExtractor(morph_vocab)"
      ]
    },
    {
      "cell_type": "code",
      "source": [
        "file = open('proba1.txt')\n",
        "text = file.read()"
      ],
      "metadata": {
        "colab": {
          "base_uri": "https://localhost:8080/",
          "height": 182
        },
        "id": "7CLJHL0_r5Xc",
        "outputId": "6ba1c337-6048-404b-e18c-9d607cbdaf55"
      },
      "execution_count": 1,
      "outputs": [
        {
          "output_type": "error",
          "ename": "FileNotFoundError",
          "evalue": "ignored",
          "traceback": [
            "\u001b[0;31m---------------------------------------------------------------------------\u001b[0m",
            "\u001b[0;31mFileNotFoundError\u001b[0m                         Traceback (most recent call last)",
            "\u001b[0;32m<ipython-input-1-e0bd5a489b1d>\u001b[0m in \u001b[0;36m<cell line: 1>\u001b[0;34m()\u001b[0m\n\u001b[0;32m----> 1\u001b[0;31m \u001b[0mfile\u001b[0m \u001b[0;34m=\u001b[0m \u001b[0mopen\u001b[0m\u001b[0;34m(\u001b[0m\u001b[0;34m'proba1.txt'\u001b[0m\u001b[0;34m)\u001b[0m\u001b[0;34m\u001b[0m\u001b[0;34m\u001b[0m\u001b[0m\n\u001b[0m\u001b[1;32m      2\u001b[0m \u001b[0mtext\u001b[0m \u001b[0;34m=\u001b[0m \u001b[0mfile\u001b[0m\u001b[0;34m.\u001b[0m\u001b[0mread\u001b[0m\u001b[0;34m(\u001b[0m\u001b[0;34m)\u001b[0m\u001b[0;34m\u001b[0m\u001b[0;34m\u001b[0m\u001b[0m\n",
            "\u001b[0;31mFileNotFoundError\u001b[0m: [Errno 2] No such file or directory: 'proba1.txt'"
          ]
        }
      ]
    },
    {
      "cell_type": "code",
      "source": [
        "text"
      ],
      "metadata": {
        "colab": {
          "base_uri": "https://localhost:8080/",
          "height": 140
        },
        "id": "z7FgAMDitE_J",
        "outputId": "081cc24a-e555-4ddd-a3b3-4b990d710caa"
      },
      "execution_count": 11,
      "outputs": [
        {
          "output_type": "execute_result",
          "data": {
            "text/plain": [
              "'Считает себя больной с июня 2019, когда стал появляться сухой кашель. Выполнялись обзорные рентгенограммы ОГК – патология не выявлялась. С начала сентября – выраженное снижение аппетита, снижение веса до 7 кг, боли в области желудка. На ЭГДС – антральный гастрит. После лечения – улучшение состояния. Кашель и слабость сохранялись, появилась слизистая мокрота. \\n14.12.19, 15.12.19 выполнена КТ ОГК – выявлены большие изменения обоих легких. Обратилась к терапевту.. Назначены бронхо- и муколитики. На фоне лечения отмечает улучшение состояния. Консультировалась – легочная диссеминация неясного генеза, требуется морфологическая верификация. Обследовалась - данных за туберкулез не вывялено (со слов больной). 14.01.20 около 12ч – появилось кровохарканье (откашляла алую кровь до 50мл). Доставлена в стационар. Поступила для хирургического лечения'"
            ],
            "application/vnd.google.colaboratory.intrinsic+json": {
              "type": "string"
            }
          },
          "metadata": {},
          "execution_count": 11
        }
      ]
    },
    {
      "cell_type": "code",
      "source": [
        "doc = Doc(text)\n",
        "doc.segment(segmenter) \n",
        "doc.tag_morph(morph_tagger)\n",
        "doc.parse_syntax(syntax_parser)\n",
        "doc.tag_ner(ner_tagger)"
      ],
      "metadata": {
        "id": "WAtVd9UxtMaB"
      },
      "execution_count": 13,
      "outputs": []
    },
    {
      "cell_type": "code",
      "source": [
        "doc.segment(segmenter)\n",
        "display(doc.tokens[:5])"
      ],
      "metadata": {
        "id": "WGXGCvCNtUKw"
      },
      "execution_count": null,
      "outputs": []
    },
    {
      "cell_type": "code",
      "source": [
        "display(doc.sents[:5])\n"
      ],
      "metadata": {
        "colab": {
          "base_uri": "https://localhost:8080/",
          "height": 104
        },
        "id": "2UMXv8p_tduS",
        "outputId": "9d3cc2df-91e8-4933-f3a5-88a4191ce4d2"
      },
      "execution_count": 15,
      "outputs": [
        {
          "output_type": "display_data",
          "data": {
            "text/plain": [
              "[DocSent(stop=69, text='Считает себя больной с июня 2019, когда стал появ..., tokens=[...]),\n",
              " DocSent(start=70, stop=136, text='Выполнялись обзорные рентгенограммы ОГК – патолог..., tokens=[...]),\n",
              " DocSent(start=137, stop=233, text='С начала сентября – выраженное снижение аппетита,..., tokens=[...]),\n",
              " DocSent(start=234, stop=263, text='На ЭГДС – антральный гастрит.', tokens=[...]),\n",
              " DocSent(start=264, stop=300, text='После лечения – улучшение состояния.', tokens=[...])]"
            ]
          },
          "metadata": {}
        }
      ]
    },
    {
      "cell_type": "code",
      "source": [
        "doc.tag_morph(morph_tagger)\n",
        "display(doc.tokens[:5])"
      ],
      "metadata": {
        "colab": {
          "base_uri": "https://localhost:8080/",
          "height": 104
        },
        "id": "WQ8CuPq1tj4m",
        "outputId": "1b10a053-8d5e-4a21-e04a-c52eade07483"
      },
      "execution_count": 16,
      "outputs": [
        {
          "output_type": "display_data",
          "data": {
            "text/plain": [
              "[DocToken(stop=7, text='Считает', pos='VERB', feats=<Imp,Ind,Sing,3,Pres,Fin,Act>),\n",
              " DocToken(start=8, stop=12, text='себя', pos='PRON', feats=<Acc>),\n",
              " DocToken(start=13, stop=20, text='больной', pos='ADJ', feats=<Ins,Pos,Fem,Sing>),\n",
              " DocToken(start=21, stop=22, text='с', pos='ADP'),\n",
              " DocToken(start=23, stop=27, text='июня', pos='NOUN', feats=<Inan,Gen,Masc,Sing>)]"
            ]
          },
          "metadata": {}
        }
      ]
    },
    {
      "cell_type": "code",
      "source": [
        "for span in doc.spans:\n",
        "    span.normalize(morph_vocab)\n",
        "\n",
        "{_.text: _.normal for _ in doc.spans if _.text != _.normal}"
      ],
      "metadata": {
        "colab": {
          "base_uri": "https://localhost:8080/"
        },
        "id": "c_LQ2hfHtpMO",
        "outputId": "9f0ab635-4229-4a53-e256-58d5b110bc81"
      },
      "execution_count": 17,
      "outputs": [
        {
          "output_type": "execute_result",
          "data": {
            "text/plain": [
              "{}"
            ]
          },
          "metadata": {},
          "execution_count": 17
        }
      ]
    },
    {
      "cell_type": "code",
      "source": [
        "for token in doc.tokens:\n",
        "    token.lemmatize(morph_vocab)\n",
        "    \n",
        "{_.text: _.lemma for _ in doc.tokens}"
      ],
      "metadata": {
        "id": "UtnOEaJxtvi_"
      },
      "execution_count": null,
      "outputs": []
    },
    {
      "cell_type": "code",
      "source": [
        "for span in doc.spans:\n",
        "    if span.type == PER:\n",
        "        span.extract_fact(names_extractor)\n",
        "\n",
        "names_dict = {_.normal: _.fact.as_dict for _ in doc.spans if _.fact}\n",
        "names_dict"
      ],
      "metadata": {
        "colab": {
          "base_uri": "https://localhost:8080/"
        },
        "id": "LRx4xW98t3Iw",
        "outputId": "0b507c27-a5c7-4c50-e5a3-0ea019ceef54"
      },
      "execution_count": 20,
      "outputs": [
        {
          "output_type": "execute_result",
          "data": {
            "text/plain": [
              "{}"
            ]
          },
          "metadata": {},
          "execution_count": 20
        }
      ]
    },
    {
      "cell_type": "code",
      "source": [
        "list(names_dict.keys())"
      ],
      "metadata": {
        "colab": {
          "base_uri": "https://localhost:8080/"
        },
        "id": "GYRbT3ybuGHv",
        "outputId": "0ff4aa88-3fa3-4c23-d963-346f1d481a25"
      },
      "execution_count": 21,
      "outputs": [
        {
          "output_type": "execute_result",
          "data": {
            "text/plain": [
              "[]"
            ]
          },
          "metadata": {},
          "execution_count": 21
        }
      ]
    }
  ]
}